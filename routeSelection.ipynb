{
 "cells": [
  {
   "cell_type": "code",
   "execution_count": 1,
   "metadata": {},
   "outputs": [],
   "source": [
    "import pandas as pd\n",
    "import numpy as np\n",
    "import xgboost as xgb\n",
    "\n",
    "from copy import copy\n",
    "import datetime\n",
    "import pickle\n",
    "from geopy.geocoders import Nominatim"
   ]
  },
  {
   "cell_type": "code",
   "execution_count": 2,
   "metadata": {},
   "outputs": [],
   "source": [
    "filename = \"xgb_routeOptimization.sav\""
   ]
  },
  {
   "cell_type": "code",
   "execution_count": 3,
   "metadata": {},
   "outputs": [
    {
     "name": "stdout",
     "output_type": "stream",
     "text": [
      "[15:18:37] WARNING: /workspace/src/objective/regression_obj.cu:167: reg:linear is now deprecated in favor of reg:squarederror.\n"
     ]
    }
   ],
   "source": [
    "loaded_model = pickle.load(open(filename, 'rb'))"
   ]
  },
  {
   "cell_type": "code",
   "execution_count": 13,
   "metadata": {},
   "outputs": [],
   "source": [
    "#Sample date\n",
    "\n",
    "date_list = [4, 6, 2019] #April 6, 2016\n",
    "\n",
    "year = int(date_list[2])\n",
    "month = int(date_list[1])\n",
    "day = int(date_list[0])\n",
    "\n",
    "my_date = datetime.date(year, month, day)"
   ]
  },
  {
   "cell_type": "code",
   "execution_count": 4,
   "metadata": {},
   "outputs": [],
   "source": [
    "#Sample test locations\n",
    "test_locations = {'current_location':(40.7651519775,-73.9767456055),\n",
    "                  'L1': (40.764198, -73.910785),\n",
    "                  'L2': (40.815421, -73.941761),\n",
    "                  'L3': (40.819688, -73.915091),\n",
    "                  'L4': (40.768790, -73.953285),\n",
    "                  'L5': (40.734851, -73.952950),\n",
    "                  'L6': (40.743613, -73.977998),\n",
    "                  'L7': (40.745313, -73.993793),\n",
    "                  'L8': (40.662713, -73.946101),\n",
    "                  'L9': (40.703761, -73.886496),\n",
    "                  'L10': (40.713620, -73.943076),\n",
    "                  'L11': (40.725212, -73.809179)\n",
    "             }"
   ]
  },
  {
   "cell_type": "code",
   "execution_count": 5,
   "metadata": {},
   "outputs": [
    {
     "name": "stderr",
     "output_type": "stream",
     "text": [
      "/home/india/anaconda2/envs/pytorch_learning/lib/python3.6/site-packages/ipykernel_launcher.py:1: DeprecationWarning: Using Nominatim with the default \"geopy/1.21.0\" `user_agent` is strongly discouraged, as it violates Nominatim's ToS https://operations.osmfoundation.org/policies/nominatim/ and may possibly cause 403 and 429 HTTP errors. Please specify a custom `user_agent` with `Nominatim(user_agent=\"my-application\")` or by overriding the default `user_agent`: `geopy.geocoders.options.default_user_agent = \"my-application\"`. In geopy 2.0 this will become an exception.\n",
      "  \"\"\"Entry point for launching an IPython kernel.\n"
     ]
    }
   ],
   "source": [
    "geolocator = Nominatim()\n",
    "addresses = []\n",
    "\n",
    "for key in test_locations:\n",
    "    location = geolocator.reverse(test_locations[key])\n",
    "    addresses.append(location.address)"
   ]
  },
  {
   "cell_type": "code",
   "execution_count": 6,
   "metadata": {},
   "outputs": [
    {
     "data": {
      "text/plain": [
       "['1421, 6th Avenue, Midtown, Manhattan Community Board 5, Manhattan, New York County, New York, 10019, United States of America',\n",
       " '43-11, 28th Avenue, Steinway, Queens, Queens County, New York, 11103, United States of America',\n",
       " '137, West 136th Street, Harlem, Manhattan Community Board 10, Manhattan, New York County, New York, 10030, United States of America',\n",
       " '424, East 155th Street, Melrose, The Bronx, Bronx County, New York, 10455, United States of America',\n",
       " '435, East 74th Street, Upper East Side, Manhattan Community Board 8, Manhattan, New York County, New York, 10021, United States of America',\n",
       " '211, Freeman Street, Greenpoint, Brooklyn, Kings County, New York, 11222, United States of America',\n",
       " '232, East 32nd Street, Kips Bay, Manhattan Community Board 5, Manhattan, New York County, New York, 10016, United States of America',\n",
       " '159, West 25th Street, Penn South, Chelsea, Manhattan Community Board 4, Manhattan, New York County, New York, 10001, United States of America',\n",
       " '458, Lefferts Avenue, Crown Heights, Brooklyn, Kings County, New York, 11225, United States of America',\n",
       " '70-38, 67th Place, Queens, Queens County, New York, 11385, United States of America',\n",
       " '194, Devoe Street, Williamsburg, Brooklyn, Kings County, New York, 11211, United States of America',\n",
       " '158-46, 76th Avenue, Utopia, Queens, Queens County, New York, 11366, United States of America']"
      ]
     },
     "execution_count": 6,
     "metadata": {},
     "output_type": "execute_result"
    }
   ],
   "source": [
    "addresses\n"
   ]
  },
  {
   "cell_type": "code",
   "execution_count": 7,
   "metadata": {},
   "outputs": [],
   "source": [
    "test_addresses = {'L1': '424 East 155th Street NY',\n",
    "                  'L2': '137 West 136th Street NY',\n",
    "                  'L3': '43-11 28th Avenue NY',\n",
    "                  'L4': '435 East 74th Street NY',\n",
    "                  'L5': '211 Freeman Street NY',\n",
    "                  'L6': '232 East 32nd Street NY',\n",
    "                  'L7': '159 West 25th Street NY',\n",
    "                  'L8': '486 Brooklyn Avenue NY',\n",
    "                  'L9': '70-38 67th Place NY',\n",
    "                  'L10': '194 Devoe Street NY',\n",
    "                  'L11': '158-46 76th Avenue NY'\n",
    "             }"
   ]
  },
  {
   "cell_type": "code",
   "execution_count": 8,
   "metadata": {},
   "outputs": [
    {
     "data": {
      "text/plain": [
       "['current_location',\n",
       " 'L2',\n",
       " 'L5',\n",
       " 'L3',\n",
       " 'L6',\n",
       " 'L11',\n",
       " 'L8',\n",
       " 'L10',\n",
       " 'L9',\n",
       " 'L4',\n",
       " 'L7',\n",
       " 'L1']"
      ]
     },
     "execution_count": 8,
     "metadata": {},
     "output_type": "execute_result"
    }
   ],
   "source": [
    "def create_guess(points):\n",
    "    \"\"\"\n",
    "    Creates a possible path between all points, returning to the original.\n",
    "    Input: List of point IDs\n",
    "    \"\"\"\n",
    "    guess = copy(points)\n",
    "    np.random.shuffle(guess)\n",
    "    guess.remove(\"current_location\")\n",
    "    #guess.append(guess[0])\n",
    "    guess.insert(0, \"current_location\")\n",
    "    return list(guess)\n",
    "\n",
    "create_guess(list(test_locations.keys()))"
   ]
  },
  {
   "cell_type": "code",
   "execution_count": 9,
   "metadata": {},
   "outputs": [
    {
     "name": "stdout",
     "output_type": "stream",
     "text": [
      "[['current_location', 'L9', 'L1', 'L10', 'L5', 'L6', 'L7', 'L11', 'L4', 'L2', 'L3', 'L8'], ['current_location', 'L6', 'L10', 'L4', 'L3', 'L11', 'L1', 'L2', 'L9', 'L5', 'L7', 'L8'], ['current_location', 'L7', 'L11', 'L4', 'L3', 'L8', 'L1', 'L5', 'L9', 'L6', 'L10', 'L2'], ['current_location', 'L6', 'L9', 'L10', 'L11', 'L8', 'L3', 'L2', 'L1', 'L5', 'L7', 'L4'], ['current_location', 'L10', 'L3', 'L2', 'L4', 'L9', 'L5', 'L8', 'L1', 'L7', 'L6', 'L11'], ['current_location', 'L2', 'L10', 'L3', 'L1', 'L7', 'L11', 'L5', 'L8', 'L6', 'L4', 'L9'], ['current_location', 'L5', 'L7', 'L2', 'L1', 'L10', 'L4', 'L6', 'L3', 'L8', 'L11', 'L9'], ['current_location', 'L1', 'L8', 'L3', 'L6', 'L4', 'L5', 'L7', 'L9', 'L2', 'L10', 'L11'], ['current_location', 'L8', 'L10', 'L1', 'L6', 'L11', 'L7', 'L3', 'L9', 'L4', 'L2', 'L5'], ['current_location', 'L8', 'L4', 'L11', 'L3', 'L2', 'L1', 'L9', 'L7', 'L5', 'L6', 'L10']]\n"
     ]
    }
   ],
   "source": [
    "def create_generation(points, population=100):\n",
    "    \"\"\"\n",
    "    Makes a list of guessed point orders given a list of point IDs.\n",
    "    Input:\n",
    "    points: list of point ids\n",
    "    population: how many guesses to make\n",
    "    \"\"\"\n",
    "    generation = [create_guess(points) for _ in range(population)]\n",
    "    return generation\n",
    "\n",
    "test_generation = create_generation(list(test_locations.keys()), population=10)\n",
    "print(test_generation)"
   ]
  },
  {
   "cell_type": "code",
   "execution_count": 10,
   "metadata": {},
   "outputs": [],
   "source": [
    "def travel_time_between_points(point1_id, point2_id, hour, date,pickup_minute = 0):\n",
    "    \"\"\"\n",
    "    Given two points, this calculates travel between them based on a XGBoost predictive model\n",
    "    \"\"\"\n",
    "    \n",
    "    model_data = {'pickup_longitude' : point1_id[1],\n",
    "                  'pickup_latitude' : point1_id[0],\n",
    "                  'dropoff_longitude' : point2_id[1],\n",
    "                  'dropoff_latitude' : point2_id[0],\n",
    "                  'latitude_difference' : point2_id[0] - point1_id[0],\n",
    "                  'longitude_difference' : point2_id[1] - point1_id[1],\n",
    "                  'distance' : 0.621371 * 6371 * (abs(2 * np.arctan2(np.sqrt(np.square(np.sin((abs(point2_id[0] - point1_id[0]) * np.pi / 180) / 2))), \n",
    "                                  np.sqrt(1-(np.square(np.sin((abs(point2_id[0] - point1_id[0]) * np.pi / 180) / 2)))))) + \\\n",
    "                                     abs(2 * np.arctan2(np.sqrt(np.square(np.sin((abs(point2_id[1] - point1_id[1]) * np.pi / 180) / 2))), \n",
    "                                  np.sqrt(1-(np.square(np.sin((abs(point2_id[1] - point1_id[1]) * np.pi / 180) / 2)))))))\n",
    "                 }\n",
    "\n",
    "    df = pd.DataFrame([model_data], columns=model_data.keys())\n",
    "    \n",
    "    pred = np.exp(loaded_model.predict(xgb.DMatrix(df))) - 1\n",
    "    \n",
    "    return pred[0]"
   ]
  },
  {
   "cell_type": "code",
   "execution_count": 11,
   "metadata": {},
   "outputs": [],
   "source": [
    "coordinates = test_locations\n",
    "#coordinates['current_location']=current_location\n",
    "#print (coordinates[\"current_location\"])"
   ]
  },
  {
   "cell_type": "code",
   "execution_count": 14,
   "metadata": {},
   "outputs": [
    {
     "name": "stdout",
     "output_type": "stream",
     "text": [
      "[(['current_location', 'L9', 'L1', 'L10', 'L5', 'L6', 'L7', 'L11', 'L4', 'L2', 'L3', 'L8'], 270.81771755218506), (['current_location', 'L6', 'L10', 'L4', 'L3', 'L11', 'L1', 'L2', 'L9', 'L5', 'L7', 'L8'], 306.498104095459), (['current_location', 'L7', 'L11', 'L4', 'L3', 'L8', 'L1', 'L5', 'L9', 'L6', 'L10', 'L2'], 335.36106300354004), (['current_location', 'L6', 'L9', 'L10', 'L11', 'L8', 'L3', 'L2', 'L1', 'L5', 'L7', 'L4'], 293.9102592468262), (['current_location', 'L10', 'L3', 'L2', 'L4', 'L9', 'L5', 'L8', 'L1', 'L7', 'L6', 'L11'], 286.4690990447998), (['current_location', 'L2', 'L10', 'L3', 'L1', 'L7', 'L11', 'L5', 'L8', 'L6', 'L4', 'L9'], 295.2116508483887), (['current_location', 'L5', 'L7', 'L2', 'L1', 'L10', 'L4', 'L6', 'L3', 'L8', 'L11', 'L9'], 309.91514778137207), (['current_location', 'L1', 'L8', 'L3', 'L6', 'L4', 'L5', 'L7', 'L9', 'L2', 'L10', 'L11'], 308.6469078063965), (['current_location', 'L8', 'L10', 'L1', 'L6', 'L11', 'L7', 'L3', 'L9', 'L4', 'L2', 'L5'], 334.1544876098633), (['current_location', 'L8', 'L4', 'L11', 'L3', 'L2', 'L1', 'L9', 'L7', 'L5', 'L6', 'L10'], 304.87510108947754)]\n"
     ]
    }
   ],
   "source": [
    "def fitness_score(guess):\n",
    "    \"\"\"\n",
    "    Loops through the points in the guesses order and calculates\n",
    "    how much distance the path would take to complete a loop.\n",
    "    Lower is better.\n",
    "    \"\"\"\n",
    "    score = 0\n",
    "    for ix, point_id in enumerate(guess[:-1]):\n",
    "        score += travel_time_between_points(coordinates[point_id], coordinates[guess[ix+1]], 11, my_date)\n",
    "    return score\n",
    "\n",
    "def check_fitness(guesses):\n",
    "    \"\"\"\n",
    "    Goes through every guess and calculates the fitness score. \n",
    "    Returns a list of tuples: (guess, fitness_score)\n",
    "    \"\"\"\n",
    "    fitness_indicator = []\n",
    "    for guess in guesses:\n",
    "        fitness_indicator.append((guess, fitness_score(guess)))\n",
    "    return fitness_indicator\n",
    "\n",
    "print(check_fitness(test_generation))"
   ]
  },
  {
   "cell_type": "code",
   "execution_count": 15,
   "metadata": {},
   "outputs": [],
   "source": [
    "def get_breeders_from_generation(guesses, take_best_N=10, verbose=False):\n",
    "    \"\"\"\n",
    "    This sets up the breeding group for the next generation. You have\n",
    "    to be very careful how many breeders you take, otherwise your\n",
    "    population can explode. These two, plus the \"number of children per couple\"\n",
    "    in the make_children function must be tuned to avoid exponential growth or decline!\n",
    "    \"\"\"\n",
    "    # First, get the top guesses from last time\n",
    "    fit_scores = check_fitness(guesses)\n",
    "    sorted_guesses = sorted(fit_scores, key=lambda x: x[1]) # sorts so lowest is first, which we want\n",
    "    new_generation = [x[0] for x in sorted_guesses[:take_best_N]]\n",
    "    best_guess = new_generation[0]\n",
    "    \n",
    "    if verbose:\n",
    "        # If we want to see what the best current guess is!\n",
    "        print(best_guess)\n",
    "    return best_guess"
   ]
  },
  {
   "cell_type": "code",
   "execution_count": 15,
   "metadata": {},
   "outputs": [
    {
     "ename": "IndentationError",
     "evalue": "unexpected indent (<ipython-input-15-5091cdf58749>, line 3)",
     "output_type": "error",
     "traceback": [
      "\u001b[0;36m  File \u001b[0;32m\"<ipython-input-15-5091cdf58749>\"\u001b[0;36m, line \u001b[0;32m3\u001b[0m\n\u001b[0;31m    \"\"\"\u001b[0m\n\u001b[0m    ^\u001b[0m\n\u001b[0;31mIndentationError\u001b[0m\u001b[0;31m:\u001b[0m unexpected indent\n"
     ]
    }
   ],
   "source": [
    "\"\"\"def evolve_to_solve(current_generation,max_generations, take_best_N, take_random_N,\n",
    "                    mutation_rate, print_every_n_generations, verbose=False):\"\"\"\n",
    "    \"\"\"\n",
    "    Takes in a generation of guesses then evolves them over time using our breeding rules.\n",
    "    Continue this for \"max_generations\" times.\n",
    "    Inputs:\n",
    "    current_generation: The first generation of guesses\n",
    "    max_generations: how many generations to complete\n",
    "    take_best_N: how many of the top performers get selected to breed\n",
    "    take_random_N: how many random guesses get brought in to keep genetic diversity\n",
    "    mutation_rate: How often to mutate (currently unused)\n",
    "    children_per_couple: how many children per breeding pair\n",
    "    print_every_n_geneartions: how often to print in verbose mode\n",
    "    verbose: Show printouts of progress\n",
    "    Returns:\n",
    "    fitness_tracking: a list of the fitness score at each generations\n",
    "    best_guess: the best_guess at the end of evolution\n",
    "    \"\"\"\n",
    "    \"\"\"fitness_tracking = []\n",
    "    for i in range(max_generations):\n",
    "        if verbose and not i % print_every_n_generations and i > 0:\n",
    "            print(\"Generation %i: \"%i, end='')\n",
    "            print(len(current_generation))\n",
    "            print(\"Current Best Score: \", fitness_tracking[-1])\n",
    "            is_verbose = True\n",
    "        else:\n",
    "            is_verbose = False\n",
    "        best_guess = get_breeders_from_generation(current_generation, \n",
    "                                                            take_best_N=take_best_N, take_random_N=take_random_N, \n",
    "                                                            verbose=is_verbose, mutation_rate=mutation_rate)\n",
    "        fitness_tracking.append(fitness_score(best_guess))\n",
    "        #current_generation = make_children(breeders, children_per_couple=children_per_couple)\n",
    "    \n",
    "    return fitness_tracking, best_guess\n",
    "\n",
    "current_generation = create_generation(list(test_locations.keys()),population=500)\n",
    "fitness_tracking, best_guess = evolve_to_solve(current_generation, 30, 150, 70, 0.5, 5, verbose=True)\"\"\""
   ]
  },
  {
   "cell_type": "code",
   "execution_count": 16,
   "metadata": {},
   "outputs": [
    {
     "name": "stdout",
     "output_type": "stream",
     "text": [
      "['current_location', 'L8', 'L7', 'L3', 'L2', 'L1', 'L9', 'L10', 'L6', 'L5', 'L4', 'L11']\n",
      "Current Best Score:  289.16800689697266\n"
     ]
    }
   ],
   "source": [
    "def evolve_to_solve(current_generation,take_best_N, verbose=False):\n",
    "    fitness_tracking = []\n",
    "    \n",
    "    best_guess = get_breeders_from_generation(current_generation, take_best_N=take_best_N, verbose=True)\n",
    "    fitness_tracking.append(fitness_score(best_guess))\n",
    "    print(\"Current Best Score: \", fitness_tracking[-1])\n",
    "    return fitness_tracking, best_guess\n",
    "\n",
    "current_generation = create_generation(list(test_locations.keys()),population=5)\n",
    "\n",
    "\n",
    "fitness_tracking, best_guess = evolve_to_solve(current_generation, 150,verbose=True)"
   ]
  },
  {
   "cell_type": "code",
   "execution_count": null,
   "metadata": {},
   "outputs": [],
   "source": []
  }
 ],
 "metadata": {
  "kernelspec": {
   "display_name": "Python 3",
   "language": "python",
   "name": "python3"
  },
  "language_info": {
   "codemirror_mode": {
    "name": "ipython",
    "version": 3
   },
   "file_extension": ".py",
   "mimetype": "text/x-python",
   "name": "python",
   "nbconvert_exporter": "python",
   "pygments_lexer": "ipython3",
   "version": "3.6.9"
  }
 },
 "nbformat": 4,
 "nbformat_minor": 2
}
