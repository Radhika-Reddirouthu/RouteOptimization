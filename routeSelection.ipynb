{
 "cells": [
  {
   "cell_type": "code",
   "execution_count": 1,
   "metadata": {},
   "outputs": [],
   "source": [
    "import pandas as pd\n",
    "import numpy as np\n",
    "import xgboost as xgb\n",
    "\n",
    "from copy import copy\n",
    "import datetime\n",
    "import pickle\n",
    "from geopy.geocoders import Nominatim"
   ]
  },
  {
   "cell_type": "code",
   "execution_count": 2,
   "metadata": {},
   "outputs": [],
   "source": [
    "filename = \"xgb_routeOptimization.sav\""
   ]
  },
  {
   "cell_type": "code",
   "execution_count": 3,
   "metadata": {},
   "outputs": [
    {
     "name": "stdout",
     "output_type": "stream",
     "text": [
      "[22:54:34] WARNING: /workspace/src/objective/regression_obj.cu:167: reg:linear is now deprecated in favor of reg:squarederror.\n"
     ]
    }
   ],
   "source": [
    "loaded_model = pickle.load(open(filename, 'rb'))"
   ]
  },
  {
   "cell_type": "code",
   "execution_count": 4,
   "metadata": {},
   "outputs": [],
   "source": [
    "#Sample date\n",
    "\n",
    "date_list = [4, 6, 2016] #April 6, 2016\n",
    "\n",
    "year = int(date_list[2])\n",
    "month = int(date_list[1])\n",
    "day = int(date_list[0])\n",
    "\n",
    "my_date = datetime.date(year, month, day)"
   ]
  },
  {
   "cell_type": "code",
   "execution_count": 5,
   "metadata": {},
   "outputs": [],
   "source": [
    "#Sample test locations\n",
    "test_locations = {'L1': (40.819688, -73.915091),\n",
    "                  'L2': (40.815421, -73.941761),\n",
    "                  'L3': (40.764198, -73.910785),\n",
    "                  'L4': (40.768790, -73.953285),\n",
    "                  'L5': (40.734851, -73.952950),\n",
    "                  'L6': (40.743613, -73.977998),\n",
    "                  'L7': (40.745313, -73.993793),\n",
    "                  'L8': (40.662713, -73.946101),\n",
    "                  'L9': (40.703761, -73.886496),\n",
    "                  'L10': (40.713620, -73.943076),\n",
    "                  'L11': (40.725212, -73.809179)\n",
    "             }"
   ]
  },
  {
   "cell_type": "code",
   "execution_count": 6,
   "metadata": {},
   "outputs": [
    {
     "name": "stderr",
     "output_type": "stream",
     "text": [
      "/home/india/anaconda2/envs/pytorch_learning/lib/python3.6/site-packages/ipykernel_launcher.py:1: DeprecationWarning: Using Nominatim with the default \"geopy/1.21.0\" `user_agent` is strongly discouraged, as it violates Nominatim's ToS https://operations.osmfoundation.org/policies/nominatim/ and may possibly cause 403 and 429 HTTP errors. Please specify a custom `user_agent` with `Nominatim(user_agent=\"my-application\")` or by overriding the default `user_agent`: `geopy.geocoders.options.default_user_agent = \"my-application\"`. In geopy 2.0 this will become an exception.\n",
      "  \"\"\"Entry point for launching an IPython kernel.\n"
     ]
    }
   ],
   "source": [
    "geolocator = Nominatim()\n",
    "addresses = []\n",
    "\n",
    "for key in test_locations:\n",
    "    location = geolocator.reverse(test_locations[key])\n",
    "    addresses.append(location.address)"
   ]
  },
  {
   "cell_type": "code",
   "execution_count": 7,
   "metadata": {},
   "outputs": [
    {
     "data": {
      "text/plain": [
       "['424, East 155th Street, Melrose, The Bronx, Bronx County, New York, 10455, United States of America',\n",
       " '137, West 136th Street, Harlem, Manhattan Community Board 10, Manhattan, New York County, New York, 10030, United States of America',\n",
       " '43-11, 28th Avenue, Steinway, Queens, Queens County, New York, 11103, United States of America',\n",
       " '435, East 74th Street, Upper East Side, Manhattan Community Board 8, Manhattan, New York County, New York, 10021, United States of America',\n",
       " '211, Freeman Street, Greenpoint, Brooklyn, Kings County, New York, 11222, United States of America',\n",
       " '232, East 32nd Street, Kips Bay, Manhattan Community Board 5, Manhattan, New York County, New York, 10016, United States of America',\n",
       " '159, West 25th Street, Penn South, Chelsea, Manhattan Community Board 4, Manhattan, New York County, New York, 10001, United States of America',\n",
       " '458, Lefferts Avenue, Crown Heights, Brooklyn, Kings County, New York, 11225, United States of America',\n",
       " '70-38, 67th Place, Queens, Queens County, New York, 11385, United States of America',\n",
       " '194, Devoe Street, Williamsburg, Brooklyn, Kings County, New York, 11211, United States of America',\n",
       " '158-46, 76th Avenue, Utopia, Queens, Queens County, New York, 11366, United States of America']"
      ]
     },
     "execution_count": 7,
     "metadata": {},
     "output_type": "execute_result"
    }
   ],
   "source": [
    "addresses\n"
   ]
  },
  {
   "cell_type": "code",
   "execution_count": 8,
   "metadata": {},
   "outputs": [],
   "source": [
    "test_addresses = {'L1': '424 East 155th Street NY',\n",
    "                  'L2': '137 West 136th Street NY',\n",
    "                  'L3': '43-11 28th Avenue NY',\n",
    "                  'L4': '435 East 74th Street NY',\n",
    "                  'L5': '211 Freeman Street NY',\n",
    "                  'L6': '232 East 32nd Street NY',\n",
    "                  'L7': '159 West 25th Street NY',\n",
    "                  'L8': '486 Brooklyn Avenue NY',\n",
    "                  'L9': '70-38 67th Place NY',\n",
    "                  'L10': '194 Devoe Street NY',\n",
    "                  'L11': '158-46 76th Avenue NY'\n",
    "             }"
   ]
  },
  {
   "cell_type": "code",
   "execution_count": 9,
   "metadata": {},
   "outputs": [
    {
     "data": {
      "text/plain": [
       "['L2', 'L6', 'L10', 'L1', 'L5', 'L8', 'L11', 'L7', 'L4', 'L3', 'L9', 'L2']"
      ]
     },
     "execution_count": 9,
     "metadata": {},
     "output_type": "execute_result"
    }
   ],
   "source": [
    "def create_guess(points):\n",
    "    \"\"\"\n",
    "    Creates a possible path between all points, returning to the original.\n",
    "    Input: List of point IDs\n",
    "    \"\"\"\n",
    "    guess = copy(points)\n",
    "    np.random.shuffle(guess)\n",
    "    guess.append(guess[0])\n",
    "    return list(guess)\n",
    "\n",
    "create_guess(list(test_locations.keys()))"
   ]
  },
  {
   "cell_type": "code",
   "execution_count": 10,
   "metadata": {},
   "outputs": [
    {
     "name": "stdout",
     "output_type": "stream",
     "text": [
      "[['L9', 'L5', 'L3', 'L11', 'L6', 'L8', 'L4', 'L2', 'L7', 'L10', 'L1', 'L9'], ['L3', 'L11', 'L4', 'L9', 'L1', 'L2', 'L8', 'L5', 'L10', 'L7', 'L6', 'L3'], ['L10', 'L11', 'L5', 'L4', 'L1', 'L3', 'L2', 'L9', 'L7', 'L6', 'L8', 'L10'], ['L7', 'L5', 'L10', 'L8', 'L11', 'L1', 'L4', 'L3', 'L2', 'L9', 'L6', 'L7'], ['L11', 'L4', 'L7', 'L2', 'L9', 'L8', 'L5', 'L1', 'L6', 'L3', 'L10', 'L11'], ['L4', 'L5', 'L9', 'L3', 'L6', 'L11', 'L1', 'L7', 'L2', 'L10', 'L8', 'L4'], ['L8', 'L4', 'L2', 'L11', 'L7', 'L10', 'L5', 'L6', 'L3', 'L9', 'L1', 'L8'], ['L3', 'L4', 'L10', 'L9', 'L8', 'L1', 'L7', 'L5', 'L6', 'L2', 'L11', 'L3'], ['L10', 'L3', 'L8', 'L2', 'L11', 'L7', 'L9', 'L5', 'L1', 'L6', 'L4', 'L10'], ['L5', 'L9', 'L11', 'L7', 'L1', 'L3', 'L4', 'L2', 'L6', 'L8', 'L10', 'L5']]\n"
     ]
    }
   ],
   "source": [
    "def create_generation(points, population=100):\n",
    "    \"\"\"\n",
    "    Makes a list of guessed point orders given a list of point IDs.\n",
    "    Input:\n",
    "    points: list of point ids\n",
    "    population: how many guesses to make\n",
    "    \"\"\"\n",
    "    generation = [create_guess(points) for _ in range(population)]\n",
    "    return generation\n",
    "\n",
    "test_generation = create_generation(list(test_locations.keys()), population=10)\n",
    "print(test_generation)"
   ]
  },
  {
   "cell_type": "code",
   "execution_count": 11,
   "metadata": {},
   "outputs": [],
   "source": [
    "def travel_time_between_points(point1_id, point2_id, hour, date, \n",
    "                               store_and_fwd_flag = 0, pickup_minute = 0):\n",
    "    \"\"\"\n",
    "    Given two points, this calculates travel between them based on a XGBoost predictive model\n",
    "    \"\"\"\n",
    "    \n",
    "    model_data = {'pickup_longitude' : point1_id[1],\n",
    "                  'pickup_latitude' : point1_id[0],\n",
    "                  'dropoff_longitude' : point2_id[1],\n",
    "                  'dropoff_latitude' : point2_id[0],\n",
    "                  'latitude_difference' : point2_id[0] - point1_id[0],\n",
    "                  'longitude_difference' : point2_id[1] - point1_id[1],\n",
    "                  'distance' : 0.621371 * 6371 * (abs(2 * np.arctan2(np.sqrt(np.square(np.sin((abs(point2_id[0] - point1_id[0]) * np.pi / 180) / 2))), \n",
    "                                  np.sqrt(1-(np.square(np.sin((abs(point2_id[0] - point1_id[0]) * np.pi / 180) / 2)))))) + \\\n",
    "                                     abs(2 * np.arctan2(np.sqrt(np.square(np.sin((abs(point2_id[1] - point1_id[1]) * np.pi / 180) / 2))), \n",
    "                                  np.sqrt(1-(np.square(np.sin((abs(point2_id[1] - point1_id[1]) * np.pi / 180) / 2)))))))\n",
    "                 }\n",
    "\n",
    "    df = pd.DataFrame([model_data], columns=model_data.keys())\n",
    "    \n",
    "    pred = np.exp(loaded_model.predict(xgb.DMatrix(df))) - 1\n",
    "    \n",
    "    return pred[0]"
   ]
  },
  {
   "cell_type": "code",
   "execution_count": 12,
   "metadata": {},
   "outputs": [],
   "source": [
    "coordinates = test_locations"
   ]
  },
  {
   "cell_type": "code",
   "execution_count": null,
   "metadata": {},
   "outputs": [],
   "source": [
    "def fitness_score(guess):\n",
    "    \"\"\"\n",
    "    Loops through the points in the guesses order and calculates\n",
    "    how much distance the path would take to complete a loop.\n",
    "    Lower is better.\n",
    "    \"\"\"\n",
    "    score = 0\n",
    "    for ix, point_id in enumerate(guess[:-1]):\n",
    "        score += travel_time_between_points(coordinates[point_id], coordinates[guess[ix+1]], 11, my_date)\n",
    "    return score\n",
    "\n",
    "def check_fitness(guesses):\n",
    "    \"\"\"\n",
    "    Goes through every guess and calculates the fitness score. \n",
    "    Returns a list of tuples: (guess, fitness_score)\n",
    "    \"\"\"\n",
    "    fitness_indicator = []\n",
    "    for guess in guesses:\n",
    "        fitness_indicator.append((guess, fitness_score(guess)))\n",
    "    return fitness_indicator\n",
    "\n",
    "print(check_fitness(test_generation))"
   ]
  },
  {
   "cell_type": "code",
   "execution_count": null,
   "metadata": {},
   "outputs": [],
   "source": []
  }
 ],
 "metadata": {
  "kernelspec": {
   "display_name": "Python 3",
   "language": "python",
   "name": "python3"
  },
  "language_info": {
   "codemirror_mode": {
    "name": "ipython",
    "version": 3
   },
   "file_extension": ".py",
   "mimetype": "text/x-python",
   "name": "python",
   "nbconvert_exporter": "python",
   "pygments_lexer": "ipython3",
   "version": "3.6.9"
  }
 },
 "nbformat": 4,
 "nbformat_minor": 2
}
