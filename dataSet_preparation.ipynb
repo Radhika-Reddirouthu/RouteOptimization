{
 "cells": [
  {
   "cell_type": "code",
   "execution_count": 1,
   "metadata": {},
   "outputs": [],
   "source": [
    "import pandas as pd\n",
    "import numpy as np"
   ]
  },
  {
   "cell_type": "markdown",
   "metadata": {},
   "source": [
    "As the data set is too large I have considered frolm 10000th entry to 19999 entry"
   ]
  },
  {
   "cell_type": "code",
   "execution_count": 2,
   "metadata": {},
   "outputs": [],
   "source": [
    "df = pd.read_csv(\"tripData.csv\")[10000:20000]"
   ]
  },
  {
   "cell_type": "code",
   "execution_count": 3,
   "metadata": {},
   "outputs": [
    {
     "data": {
      "text/plain": [
       "(10000, 6)"
      ]
     },
     "execution_count": 3,
     "metadata": {},
     "output_type": "execute_result"
    }
   ],
   "source": [
    "df.shape"
   ]
  },
  {
   "cell_type": "code",
   "execution_count": 4,
   "metadata": {},
   "outputs": [
    {
     "data": {
      "text/html": [
       "<div>\n",
       "<style scoped>\n",
       "    .dataframe tbody tr th:only-of-type {\n",
       "        vertical-align: middle;\n",
       "    }\n",
       "\n",
       "    .dataframe tbody tr th {\n",
       "        vertical-align: top;\n",
       "    }\n",
       "\n",
       "    .dataframe thead th {\n",
       "        text-align: right;\n",
       "    }\n",
       "</style>\n",
       "<table border=\"1\" class=\"dataframe\">\n",
       "  <thead>\n",
       "    <tr style=\"text-align: right;\">\n",
       "      <th></th>\n",
       "      <th>tpep_pickup_datetime</th>\n",
       "      <th>tpep_dropoff_datetime</th>\n",
       "      <th>pickup_longitude</th>\n",
       "      <th>pickup_latitude</th>\n",
       "      <th>dropoff_longitude</th>\n",
       "      <th>dropoff_latitude</th>\n",
       "    </tr>\n",
       "  </thead>\n",
       "  <tbody>\n",
       "    <tr>\n",
       "      <td>10000</td>\n",
       "      <td>2016-03-10 08:01:18</td>\n",
       "      <td>2016-03-10 08:11:26</td>\n",
       "      <td>-74.002968</td>\n",
       "      <td>40.760349</td>\n",
       "      <td>-73.985107</td>\n",
       "      <td>40.760189</td>\n",
       "    </tr>\n",
       "    <tr>\n",
       "      <td>10001</td>\n",
       "      <td>2016-03-10 08:01:18</td>\n",
       "      <td>2016-03-10 08:16:50</td>\n",
       "      <td>-73.965683</td>\n",
       "      <td>40.774269</td>\n",
       "      <td>-73.966766</td>\n",
       "      <td>40.758808</td>\n",
       "    </tr>\n",
       "    <tr>\n",
       "      <td>10002</td>\n",
       "      <td>2016-03-10 08:01:19</td>\n",
       "      <td>2016-03-11 07:51:43</td>\n",
       "      <td>-73.958603</td>\n",
       "      <td>40.800125</td>\n",
       "      <td>-73.958023</td>\n",
       "      <td>40.784805</td>\n",
       "    </tr>\n",
       "    <tr>\n",
       "      <td>10003</td>\n",
       "      <td>2016-03-10 08:01:20</td>\n",
       "      <td>2016-03-10 08:12:16</td>\n",
       "      <td>-73.990440</td>\n",
       "      <td>40.756210</td>\n",
       "      <td>-73.972229</td>\n",
       "      <td>40.759430</td>\n",
       "    </tr>\n",
       "    <tr>\n",
       "      <td>10004</td>\n",
       "      <td>2016-03-10 08:01:20</td>\n",
       "      <td>2016-03-10 08:09:50</td>\n",
       "      <td>-73.982124</td>\n",
       "      <td>40.774906</td>\n",
       "      <td>-73.969170</td>\n",
       "      <td>40.798092</td>\n",
       "    </tr>\n",
       "  </tbody>\n",
       "</table>\n",
       "</div>"
      ],
      "text/plain": [
       "      tpep_pickup_datetime tpep_dropoff_datetime  pickup_longitude  \\\n",
       "10000  2016-03-10 08:01:18   2016-03-10 08:11:26        -74.002968   \n",
       "10001  2016-03-10 08:01:18   2016-03-10 08:16:50        -73.965683   \n",
       "10002  2016-03-10 08:01:19   2016-03-11 07:51:43        -73.958603   \n",
       "10003  2016-03-10 08:01:20   2016-03-10 08:12:16        -73.990440   \n",
       "10004  2016-03-10 08:01:20   2016-03-10 08:09:50        -73.982124   \n",
       "\n",
       "       pickup_latitude  dropoff_longitude  dropoff_latitude  \n",
       "10000        40.760349         -73.985107         40.760189  \n",
       "10001        40.774269         -73.966766         40.758808  \n",
       "10002        40.800125         -73.958023         40.784805  \n",
       "10003        40.756210         -73.972229         40.759430  \n",
       "10004        40.774906         -73.969170         40.798092  "
      ]
     },
     "execution_count": 4,
     "metadata": {},
     "output_type": "execute_result"
    }
   ],
   "source": [
    "df.head()"
   ]
  },
  {
   "cell_type": "code",
   "execution_count": 5,
   "metadata": {},
   "outputs": [],
   "source": [
    "#convertion of datetime strings into datetime\n",
    "df[\"tpep_dropoff_datetime\"] = pd.to_datetime(df[\"tpep_dropoff_datetime\"], format='%Y-%m-%d %H:%M:%S')\n",
    "df[\"tpep_pickup_datetime\"] = pd.to_datetime(df[\"tpep_pickup_datetime\"], format='%Y-%m-%d %H:%M:%S')"
   ]
  },
  {
   "cell_type": "markdown",
   "metadata": {},
   "source": [
    "The data set donot contain the time taken to reach the destination. Therefore it is been added"
   ]
  },
  {
   "cell_type": "code",
   "execution_count": 6,
   "metadata": {},
   "outputs": [],
   "source": [
    "df['trip_duration'] = df['tpep_dropoff_datetime'] - df['tpep_pickup_datetime']\n",
    "df['trip_duration']=df['trip_duration']/np.timedelta64(1,'s')\n",
    "df['trip_duration']=round(df['trip_duration']/60)"
   ]
  },
  {
   "cell_type": "code",
   "execution_count": 7,
   "metadata": {},
   "outputs": [],
   "source": [
    "#Get latitude and longitude differences \n",
    "df[\"latitude_difference\"] = df[\"dropoff_latitude\"] - df[\"pickup_latitude\"]\n",
    "df[\"longitude_difference\"] = df[\"dropoff_longitude\"] - df[\"pickup_longitude\"]"
   ]
  },
  {
   "cell_type": "markdown",
   "metadata": {},
   "source": [
    "The below code is the manhattan distance between the given pickup and drop latitude and longitude values"
   ]
  },
  {
   "cell_type": "code",
   "execution_count": 8,
   "metadata": {},
   "outputs": [],
   "source": [
    "df[\"distance\"] = 0.621371 * 6371 * (abs(2 * np.arctan2(np.sqrt(np.square(np.sin((abs(df[\"latitude_difference\"]) * np.pi / 180) / 2))), \n",
    "                                  np.sqrt(1-(np.square(np.sin((abs(df[\"latitude_difference\"]) * np.pi / 180) / 2)))))) + \\\n",
    "                                     abs(2 * np.arctan2(np.sqrt(np.square(np.sin((abs(df[\"longitude_difference\"]) * np.pi / 180) / 2))), \n",
    "                                  np.sqrt(1-(np.square(np.sin((abs(df[\"longitude_difference\"]) * np.pi / 180) / 2)))))))"
   ]
  },
  {
   "cell_type": "markdown",
   "metadata": {},
   "source": [
    "As we are trying to predict the trip duration and those details are added in the above code, the dataframe is converted to csv file \"trainData.csv\" and saved on local directory to further train the model"
   ]
  },
  {
   "cell_type": "code",
   "execution_count": 9,
   "metadata": {},
   "outputs": [],
   "source": [
    "df.to_csv('trainData.csv')"
   ]
  },
  {
   "cell_type": "code",
   "execution_count": null,
   "metadata": {},
   "outputs": [],
   "source": []
  },
  {
   "cell_type": "code",
   "execution_count": null,
   "metadata": {},
   "outputs": [],
   "source": []
  }
 ],
 "metadata": {
  "kernelspec": {
   "display_name": "Python 3",
   "language": "python",
   "name": "python3"
  },
  "language_info": {
   "codemirror_mode": {
    "name": "ipython",
    "version": 3
   },
   "file_extension": ".py",
   "mimetype": "text/x-python",
   "name": "python",
   "nbconvert_exporter": "python",
   "pygments_lexer": "ipython3",
   "version": "3.6.9"
  }
 },
 "nbformat": 4,
 "nbformat_minor": 2
}
